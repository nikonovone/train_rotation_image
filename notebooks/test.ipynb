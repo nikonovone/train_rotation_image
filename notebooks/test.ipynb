{
 "cells": [
  {
   "cell_type": "code",
   "execution_count": null,
   "metadata": {},
   "outputs": [],
   "source": [
    "import matplotlib.pyplot as plt\n",
    "import torch\n",
    "import time\n",
    "import psutil"
   ]
  },
  {
   "cell_type": "code",
   "execution_count": null,
   "metadata": {},
   "outputs": [],
   "source": [
    "def predict_and_visualize_custom_image(model, image_tensor, show=True):\n",
    "    with torch.no_grad():\n",
    "        predicted_image = model(image_tensor)\n",
    "    if show:\n",
    "        image_tensor = image_tensor.cpu()\n",
    "        predicted_image = predicted_image.cpu()\n",
    "        fig, axes = plt.subplots(1, 2, figsize=(8, 4))\n",
    "\n",
    "        axes[0].imshow(image_tensor.squeeze(0).squeeze(0), cmap=\"gray\")\n",
    "        axes[0].set_title(\"Input Image\")\n",
    "        axes[0].axis(\"off\")\n",
    "\n",
    "        axes[1].imshow(predicted_image.squeeze(0).squeeze(0), cmap=\"gray\")\n",
    "        axes[1].set_title(\"Predicted Rotated Image\")\n",
    "        axes[1].axis(\"off\")\n",
    "\n",
    "        plt.tight_layout()\n",
    "        plt.show()\n",
    "\n",
    "    return predicted_image\n",
    "\n",
    "\n",
    "def measure_average_performance(model, image_tensor, num_runs=1000):\n",
    "    execution_times = []\n",
    "\n",
    "    for _ in range(num_runs):\n",
    "        start_time = time.time()\n",
    "        predict_and_visualize_custom_image(model, image_tensor, show=False)\n",
    "        end_time = time.time()\n",
    "        execution_times.append(end_time - start_time)\n",
    "\n",
    "    average_time = sum(execution_times) / num_runs\n",
    "    print(f\"Average Execution Time over {num_runs} runs: {average_time:.10f} seconds\")\n",
    "\n",
    "    process = psutil.Process()\n",
    "    memory_info = process.memory_info()\n",
    "    print(f\"Memory Usage: {memory_info.rss / (1024 * 1024):.2f} MB\")"
   ]
  },
  {
   "cell_type": "code",
   "execution_count": null,
   "metadata": {},
   "outputs": [],
   "source": [
    "device = torch.device(\"cuda\" if torch.cuda.is_available() else \"cpu\")\n",
    "\n",
    "custom_image_tensor = torch.zeros(1, 1, 11, 11)\n",
    "custom_image_tensor[:, :, 3, 4] = 1.0\n",
    "custom_image_tensor[:, :, 4, 4] = 1.0\n",
    "custom_image_tensor[:, :, 5, 2:9] = 1.0\n",
    "custom_image_tensor = custom_image_tensor.to(device)\n",
    "\n",
    "\n",
    "model = torch.jit.load(\"../weights/best_model.pt\")\n",
    "model.eval().to(device)\n",
    "\n",
    "\n",
    "predict_and_visualize_custom_image(model, custom_image_tensor, show=True)\n",
    "measure_average_performance(model, custom_image_tensor)"
   ]
  }
 ],
 "metadata": {
  "kernelspec": {
   "display_name": ".venv",
   "language": "python",
   "name": "python3"
  },
  "language_info": {
   "codemirror_mode": {
    "name": "ipython",
    "version": 3
   },
   "file_extension": ".py",
   "mimetype": "text/x-python",
   "name": "python",
   "nbconvert_exporter": "python",
   "pygments_lexer": "ipython3",
   "version": "3.12.3"
  }
 },
 "nbformat": 4,
 "nbformat_minor": 2
}
